{
 "cells": [
  {
   "cell_type": "code",
   "execution_count": 1,
   "id": "079bf482-ccd6-4029-8716-b7c8bc53b0f4",
   "metadata": {},
   "outputs": [],
   "source": [
    "# import sys\n",
    "# sys.path.append(r\"C:\\Users\\user\\anaconda3\\lib\\site-packages\\matlabengine-24.2-py3.12.egg\")\n",
    "\n",
    "# import matlab.engine\n",
    "# eng = matlab.engine.start_matlab()\n",
    "# print(\"MATLAB 연결 성공!\")\n"
   ]
  },
  {
   "cell_type": "code",
   "execution_count": 2,
   "id": "08c5b275-eef9-48d1-884d-25e8ae82f7c8",
   "metadata": {},
   "outputs": [],
   "source": [
    "# !pip install stable-baselines3[extra]"
   ]
  },
  {
   "cell_type": "code",
   "execution_count": 3,
   "id": "7bd6ca82-489a-417c-a929-c23388f0b885",
   "metadata": {},
   "outputs": [
    {
     "name": "stderr",
     "output_type": "stream",
     "text": [
      "\n"
     ]
    },
    {
     "name": "stdout",
     "output_type": "stream",
     "text": [
      "🔄 MATLAB 엔진 시작 중...\n",
      "✅ MATLAB 엔진 시작 완료\n"
     ]
    },
    {
     "name": "stderr",
     "output_type": "stream",
     "text": [
      "C:\\Users\\user\\anaconda3\\Lib\\site-packages\\stable_baselines3\\common\\env_checker.py:462: UserWarning: We recommend you to use a symmetric and normalized Box action space (range=[-1, 1]) cf. https://stable-baselines3.readthedocs.io/en/master/guide/rl_tips.html\n",
      "  warnings.warn(\n"
     ]
    },
    {
     "name": "stdout",
     "output_type": "stream",
     "text": [
      "Using cpu device\n",
      "Wrapping the env with a `Monitor` wrapper\n",
      "Wrapping the env in a DummyVecEnv.\n",
      "---------------------------------\n",
      "| rollout/           |          |\n",
      "|    ep_len_mean     | 1        |\n",
      "|    ep_rew_mean     | -0.0232  |\n",
      "| time/              |          |\n",
      "|    fps             | 164      |\n",
      "|    iterations      | 1        |\n",
      "|    time_elapsed    | 12       |\n",
      "|    total_timesteps | 2048     |\n",
      "---------------------------------\n",
      "----------------------------------------\n",
      "| rollout/                |            |\n",
      "|    ep_len_mean          | 1          |\n",
      "|    ep_rew_mean          | -0.0158    |\n",
      "| time/                   |            |\n",
      "|    fps                  | 160        |\n",
      "|    iterations           | 2          |\n",
      "|    time_elapsed         | 25         |\n",
      "|    total_timesteps      | 4096       |\n",
      "| train/                  |            |\n",
      "|    approx_kl            | 0.04043656 |\n",
      "|    clip_fraction        | 0.37       |\n",
      "|    clip_range           | 0.2        |\n",
      "|    entropy_loss         | -4.28      |\n",
      "|    explained_variance   | 0          |\n",
      "|    learning_rate        | 0.0003     |\n",
      "|    loss                 | -0.0866    |\n",
      "|    n_updates            | 10         |\n",
      "|    policy_gradient_loss | -0.0805    |\n",
      "|    std                  | 1.01       |\n",
      "|    value_loss           | 0.00073    |\n",
      "----------------------------------------\n",
      "🔧 최적 튜닝 결과: Kp = 0.412, Ki = 0.265, Kd = 0.220\n"
     ]
    }
   ],
   "source": [
    "import matlab.engine\n",
    "import numpy as np\n",
    "from gymnasium import Env\n",
    "from gymnasium.spaces import Box\n",
    "from stable_baselines3 import PPO\n",
    "from stable_baselines3.common.env_checker import check_env\n",
    "import math\n",
    "\n",
    "# 1. 강화학습 환경 정의\n",
    "class PIDEnv(Env):\n",
    "    def __init__(self):\n",
    "        super().__init__()\n",
    "        self.action_space = Box(low=np.array([0.1, 0.01, 0.01], dtype=np.float32),\n",
    "                                high=np.array([5.0, 2.0, 2.0], dtype=np.float32),\n",
    "                                dtype=np.float32)\n",
    "        self.observation_space = Box(low=-np.inf, high=np.inf, shape=(1,), dtype=np.float32)\n",
    "        self.state = np.array([0.0], dtype=np.float32)\n",
    "\n",
    "        print(\"🔄 MATLAB 엔진 시작 중...\")\n",
    "        self.eng = matlab.engine.start_matlab()\n",
    "        print(\"✅ MATLAB 엔진 시작 완료\")\n",
    "\n",
    "        # run_uav_sim.m과 state_derivative.m이 동일한 경로에 있어야 함\n",
    "        self.eng.cd(r'C:\\Users\\user\\Desktop\\rkdghkgkrtmq\\PIDQN')  # 필요에 따라 경로 수정\n",
    "\n",
    "    def step(self, action):\n",
    "        Kp, Ki, Kd = float(action[0]), float(action[1]), float(action[2])\n",
    "        try:\n",
    "            reward = float(self.eng.run_uav_sim(Kp, Ki, Kd))\n",
    "            if math.isnan(reward) or math.isinf(reward):\n",
    "                print(f\"[❌ NaN 보상] Kp={Kp:.3f}, Ki={Ki:.3f}, Kd={Kd:.3f}\")\n",
    "                reward = -1e6\n",
    "        except matlab.engine.MatlabExecutionError as e:\n",
    "            print(f\"[MATLAB 오류 발생]: {e}\")\n",
    "            reward = -1e6  # 심각한 오류 발생 시 큰 페널티\n",
    "\n",
    "        terminated = True\n",
    "        truncated = False\n",
    "        return self.state, reward, terminated, truncated, {}\n",
    "\n",
    "    def reset(self, *, seed=None, options=None):\n",
    "        super().reset(seed=seed)\n",
    "        self.state = np.array([0.0], dtype=np.float32)\n",
    "        return self.state, {}\n",
    "\n",
    "    def render(self, mode='human'):\n",
    "        pass\n",
    "\n",
    "    def close(self):\n",
    "        self.eng.quit()\n",
    "\n",
    "# 2. 환경 생성 및 확인\n",
    "env = PIDEnv()\n",
    "check_env(env, warn=True)\n",
    "\n",
    "# 3. PPO 에이전트 생성 및 학습\n",
    "model = PPO(\"MlpPolicy\", env, verbose=1)\n",
    "model.learn(total_timesteps=3000)\n",
    "\n",
    "# 4. 학습된 최적 PID 게인 확인\n",
    "obs, _ = env.reset()\n",
    "Kp, Ki, Kd = model.predict(obs, deterministic=True)[0]\n",
    "print(f\"🔧 최적 튜닝 결과: Kp = {Kp:.3f}, Ki = {Ki:.3f}, Kd = {Kd:.3f}\")\n"
   ]
  },
  {
   "cell_type": "code",
   "execution_count": null,
   "id": "cc6c6ba6-41fc-4716-aaf1-eb6d3201ebf9",
   "metadata": {},
   "outputs": [],
   "source": []
  }
 ],
 "metadata": {
  "kernelspec": {
   "display_name": "Python 3.10 (CarRacing)",
   "language": "python",
   "name": "car_racing_env"
  },
  "language_info": {
   "codemirror_mode": {
    "name": "ipython",
    "version": 3
   },
   "file_extension": ".py",
   "mimetype": "text/x-python",
   "name": "python",
   "nbconvert_exporter": "python",
   "pygments_lexer": "ipython3",
   "version": "3.12.7"
  }
 },
 "nbformat": 4,
 "nbformat_minor": 5
}
